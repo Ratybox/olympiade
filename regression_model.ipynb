{
 "cells": [
  {
   "cell_type": "code",
   "execution_count": 79,
   "id": "70436353",
   "metadata": {},
   "outputs": [],
   "source": [
    "import pandas as pd\n",
    "from sklearn.preprocessing import StandardScaler\n",
    "\n",
    "\n",
    "df = pd.read_csv(\"telemonitoring_parkinsons_updrs.data.csv\")\n",
    "\n",
    "df = df.drop(columns=['subject#', 'age', 'sex', 'test_time', 'total_UPDRS'])\n",
    "\n",
    "features = df.drop(columns=['motor_UPDRS'])\n",
    "target = df['motor_UPDRS']\n",
    "\n",
    "\n",
    "scaler = StandardScaler()\n",
    "features_normalized = scaler.fit_transform(features)\n",
    "\n"
   ]
  },
  {
   "cell_type": "code",
   "execution_count": 80,
   "id": "6321c80c",
   "metadata": {},
   "outputs": [
    {
     "name": "stdout",
     "output_type": "stream",
     "text": [
      "Mean Squared Error: 58.97586482228757\n",
      "Coefficients: [ 1.81436091e+02 -5.23357730e+04 -2.79564491e+04 -8.07814483e+01\n",
      "  9.39996586e+03  8.53381486e+01 -4.61212769e+00 -2.00866742e+04\n",
      " -1.52118805e+02  1.27336950e+02  6.65698268e+03 -2.25764578e+01\n",
      " -4.44755130e-01  1.36652161e+00 -3.04053902e+01  2.15883846e+01]\n"
     ]
    }
   ],
   "source": [
    "from sklearn.model_selection import train_test_split\n",
    "from sklearn.linear_model import LinearRegression\n",
    "from sklearn.metrics import mean_squared_error\n",
    "\n",
    "# Split the dataset into train and test sets\n",
    "X_train, X_test, y_train, y_test = train_test_split(features, target, test_size=0.2, random_state=42)\n",
    "\n",
    "# Initialize and train the regression model\n",
    "regressor = LinearRegression()\n",
    "regressor.fit(X_train, y_train)\n",
    "\n",
    "# Make predictions\n",
    "y_pred = regressor.predict(X_test)\n",
    "\n",
    "# Evaluate the model\n",
    "mse = mean_squared_error(y_test, y_pred)\n",
    "print(f\"Mean Squared Error: {mse}\")\n",
    "print(\"Coefficients:\", regressor.coef_)"
   ]
  },
  {
   "cell_type": "code",
   "execution_count": 81,
   "id": "2934c585",
   "metadata": {},
   "outputs": [
    {
     "name": "stdout",
     "output_type": "stream",
     "text": [
      "{'Jitter(%)': 0.6021239495189008, 'Jitter(Abs)': 92.99116989947996, 'Jitter:RAP': 0.04846399405526875, 'Jitter:PPQ5': 0.02715579893429608, 'Jitter:DDP': 300.02008423559744, 'Shimmer': 1.0544264, 'Shimmer(dB)': 4.7391170263290405, 'Shimmer:APQ3': 3.7998812, 'Shimmer:APQ5': 3.7998812, 'Shimmer:APQ11': 3.7998812, 'Shimmer:DDA': 3.7998812, 'NHR': 0.0015537008, 'HNR': 0.9984487094701099, 'RPDE': 0.7889497461108712, 'DFA': 0.5962063879794753, 'PPE': 0.19023767931049762}\n"
     ]
    }
   ],
   "source": [
    "import librosa\n",
    "import numpy as np\n",
    "from scipy.stats import variation\n",
    "\n",
    "def extract_features(audio_file):\n",
    "    # Load the audio file\n",
    "    y, sr = librosa.load(audio_file)\n",
    "\n",
    "    # --- Jitter Features ---\n",
    "    # Calculate fundamental frequency (F0) using librosa's pitch detection\n",
    "    f0, voiced_flag, voiced_probs = librosa.pyin(y, fmin=librosa.note_to_hz('C1'), fmax=librosa.note_to_hz('C8'))\n",
    "\n",
    "    # Remove `nan` values from f0\n",
    "    if f0 is not None:\n",
    "        f0 = f0[~np.isnan(f0)]\n",
    "        if len(f0) == 0:\n",
    "            f0 = np.array([0])  # Default if no valid values\n",
    "    else:\n",
    "        f0 = np.array([0])  # Default for invalid `f0`\n",
    "\n",
    "\n",
    "    # Jitter Features\n",
    "    if len(f0) > 0 and np.mean(f0) != 0:\n",
    "        jitter_percent = variation(f0)\n",
    "    else:\n",
    "        jitter_percent = 0  # Default value if invalid\n",
    "    jitter_abs = np.std(f0)\n",
    "    jitter_rap = (np.mean(np.abs(np.diff(f0)) / f0[:-1])) if len(f0) > 1 else 0\n",
    "    jitter_ppq5 = (np.mean(np.abs(np.diff(f0)) / f0[1:])) if len(f0) > 1 else 0\n",
    "    jitter_ddp = np.max(np.abs(np.diff(f0))) if len(f0) > 1 else 0\n",
    "\n",
    "    # Check for valid values and avoid division by small or zero values\n",
    "    def safe_shimmer_calculation(envelope):\n",
    "        if len(envelope) > 1:\n",
    "            diff_envelope = np.diff(envelope)\n",
    "            envelope_without_zero = np.where(envelope[1:] != 0, envelope[1:], 1)  # Avoid division by zero\n",
    "            shimmer_feature = np.mean(np.abs(diff_envelope) / envelope_without_zero)\n",
    "            return shimmer_feature\n",
    "        return 0  # Return a default value when the envelope is too short or invalid\n",
    "\n",
    "    # --- Shimmer Features ---\n",
    "    amplitude_envelope = librosa.onset.onset_strength(y=y, sr=sr)\n",
    "    shimmer = (np.std(amplitude_envelope) / np.mean(amplitude_envelope)) if np.mean(amplitude_envelope) != 0 else 0\n",
    "    shimmer_db = (20 * np.log10(np.std(amplitude_envelope))) if np.std(amplitude_envelope) > 0 else 0\n",
    "\n",
    "    # Apply the safe shimmer calculation\n",
    "    shimmer_apq3 = safe_shimmer_calculation(amplitude_envelope)\n",
    "    shimmer_apq5 = safe_shimmer_calculation(amplitude_envelope)\n",
    "    shimmer_apq11 = safe_shimmer_calculation(amplitude_envelope)\n",
    "    shimmer_dda = safe_shimmer_calculation(amplitude_envelope)\n",
    "\n",
    "    # --- Noise-to-Harmonics Ratio (NHR) and Harmonics-to-Noise Ratio (HNR) ---\n",
    "    spectral_flatness = librosa.feature.spectral_flatness(y=y)\n",
    "    nhr = np.mean(spectral_flatness)\n",
    "    hnr = 1 / (1 + nhr)\n",
    "\n",
    "    # --- Nonlinear Features (RPDE, DFA, PPE) ---\n",
    "    rpde = np.random.random()\n",
    "    dfa = np.random.random()\n",
    "    ppe = np.random.random()\n",
    "\n",
    "    return {\n",
    "        'Jitter(%)': jitter_percent,\n",
    "        'Jitter(Abs)': jitter_abs,\n",
    "        'Jitter:RAP': jitter_rap,\n",
    "        'Jitter:PPQ5': jitter_ppq5,\n",
    "        'Jitter:DDP': jitter_ddp,\n",
    "        'Shimmer': shimmer,\n",
    "        'Shimmer(dB)': shimmer_db,\n",
    "        'Shimmer:APQ3': shimmer_apq3,\n",
    "        'Shimmer:APQ5': shimmer_apq5,\n",
    "        'Shimmer:APQ11': shimmer_apq11,\n",
    "        'Shimmer:DDA': shimmer_dda,\n",
    "        'NHR': nhr,\n",
    "        'HNR': hnr,\n",
    "        'RPDE': rpde,\n",
    "        'DFA': dfa,\n",
    "        'PPE': ppe\n",
    "    }\n",
    "\n",
    "# Example usage\n",
    "audio_file = \"Recording.wav\"\n",
    "amir_features = extract_features(audio_file)\n",
    "print(amir_features)\n"
   ]
  },
  {
   "cell_type": "code",
   "execution_count": 86,
   "id": "3d034646",
   "metadata": {},
   "outputs": [
    {
     "name": "stdout",
     "output_type": "stream",
     "text": [
      "Prediction for the first line of features: 24.119672496311466\n"
     ]
    },
    {
     "name": "stderr",
     "output_type": "stream",
     "text": [
      "c:\\Users\\USER\\AppData\\Local\\Programs\\Python\\Python312\\Lib\\site-packages\\sklearn\\base.py:493: UserWarning: X does not have valid feature names, but LinearRegression was fitted with feature names\n",
      "  warnings.warn(\n"
     ]
    }
   ],
   "source": [
    "new_prediction = regressor.predict([features.iloc[0]])\n",
    "print(f\"Prediction for the first line of features: {new_prediction[0]}\")"
   ]
  },
  {
   "cell_type": "code",
   "execution_count": 84,
   "id": "dbd84395",
   "metadata": {},
   "outputs": [
    {
     "ename": "KeyError",
     "evalue": "0",
     "output_type": "error",
     "traceback": [
      "\u001b[1;31m---------------------------------------------------------------------------\u001b[0m",
      "\u001b[1;31mKeyError\u001b[0m                                  Traceback (most recent call last)",
      "File \u001b[1;32mc:\\Users\\USER\\AppData\\Local\\Programs\\Python\\Python312\\Lib\\site-packages\\pandas\\core\\indexes\\base.py:3805\u001b[0m, in \u001b[0;36mIndex.get_loc\u001b[1;34m(self, key)\u001b[0m\n\u001b[0;32m   3804\u001b[0m \u001b[38;5;28;01mtry\u001b[39;00m:\n\u001b[1;32m-> 3805\u001b[0m     \u001b[38;5;28;01mreturn\u001b[39;00m \u001b[38;5;28;43mself\u001b[39;49m\u001b[38;5;241;43m.\u001b[39;49m\u001b[43m_engine\u001b[49m\u001b[38;5;241;43m.\u001b[39;49m\u001b[43mget_loc\u001b[49m\u001b[43m(\u001b[49m\u001b[43mcasted_key\u001b[49m\u001b[43m)\u001b[49m\n\u001b[0;32m   3806\u001b[0m \u001b[38;5;28;01mexcept\u001b[39;00m \u001b[38;5;167;01mKeyError\u001b[39;00m \u001b[38;5;28;01mas\u001b[39;00m err:\n",
      "File \u001b[1;32mindex.pyx:167\u001b[0m, in \u001b[0;36mpandas._libs.index.IndexEngine.get_loc\u001b[1;34m()\u001b[0m\n",
      "File \u001b[1;32mindex.pyx:196\u001b[0m, in \u001b[0;36mpandas._libs.index.IndexEngine.get_loc\u001b[1;34m()\u001b[0m\n",
      "File \u001b[1;32mpandas\\\\_libs\\\\hashtable_class_helper.pxi:7081\u001b[0m, in \u001b[0;36mpandas._libs.hashtable.PyObjectHashTable.get_item\u001b[1;34m()\u001b[0m\n",
      "File \u001b[1;32mpandas\\\\_libs\\\\hashtable_class_helper.pxi:7089\u001b[0m, in \u001b[0;36mpandas._libs.hashtable.PyObjectHashTable.get_item\u001b[1;34m()\u001b[0m\n",
      "\u001b[1;31mKeyError\u001b[0m: 0",
      "\nThe above exception was the direct cause of the following exception:\n",
      "\u001b[1;31mKeyError\u001b[0m                                  Traceback (most recent call last)",
      "Cell \u001b[1;32mIn[84], line 4\u001b[0m\n\u001b[0;32m      1\u001b[0m amir_features_df \u001b[38;5;241m=\u001b[39m pd\u001b[38;5;241m.\u001b[39mDataFrame([amir_features])\n\u001b[1;32m----> 4\u001b[0m new_prediction \u001b[38;5;241m=\u001b[39m regressor\u001b[38;5;241m.\u001b[39mpredict(\u001b[43mfeatures\u001b[49m\u001b[43m[\u001b[49m\u001b[38;5;241;43m0\u001b[39;49m\u001b[43m]\u001b[49m)\n\u001b[0;32m      6\u001b[0m \u001b[38;5;28mprint\u001b[39m(\u001b[38;5;124mf\u001b[39m\u001b[38;5;124m\"\u001b[39m\u001b[38;5;124mPrediction for the new features: \u001b[39m\u001b[38;5;132;01m{\u001b[39;00mnew_prediction[\u001b[38;5;241m0\u001b[39m]\u001b[38;5;132;01m}\u001b[39;00m\u001b[38;5;124m\"\u001b[39m)\n",
      "File \u001b[1;32mc:\\Users\\USER\\AppData\\Local\\Programs\\Python\\Python312\\Lib\\site-packages\\pandas\\core\\frame.py:4102\u001b[0m, in \u001b[0;36mDataFrame.__getitem__\u001b[1;34m(self, key)\u001b[0m\n\u001b[0;32m   4100\u001b[0m \u001b[38;5;28;01mif\u001b[39;00m \u001b[38;5;28mself\u001b[39m\u001b[38;5;241m.\u001b[39mcolumns\u001b[38;5;241m.\u001b[39mnlevels \u001b[38;5;241m>\u001b[39m \u001b[38;5;241m1\u001b[39m:\n\u001b[0;32m   4101\u001b[0m     \u001b[38;5;28;01mreturn\u001b[39;00m \u001b[38;5;28mself\u001b[39m\u001b[38;5;241m.\u001b[39m_getitem_multilevel(key)\n\u001b[1;32m-> 4102\u001b[0m indexer \u001b[38;5;241m=\u001b[39m \u001b[38;5;28;43mself\u001b[39;49m\u001b[38;5;241;43m.\u001b[39;49m\u001b[43mcolumns\u001b[49m\u001b[38;5;241;43m.\u001b[39;49m\u001b[43mget_loc\u001b[49m\u001b[43m(\u001b[49m\u001b[43mkey\u001b[49m\u001b[43m)\u001b[49m\n\u001b[0;32m   4103\u001b[0m \u001b[38;5;28;01mif\u001b[39;00m is_integer(indexer):\n\u001b[0;32m   4104\u001b[0m     indexer \u001b[38;5;241m=\u001b[39m [indexer]\n",
      "File \u001b[1;32mc:\\Users\\USER\\AppData\\Local\\Programs\\Python\\Python312\\Lib\\site-packages\\pandas\\core\\indexes\\base.py:3812\u001b[0m, in \u001b[0;36mIndex.get_loc\u001b[1;34m(self, key)\u001b[0m\n\u001b[0;32m   3807\u001b[0m     \u001b[38;5;28;01mif\u001b[39;00m \u001b[38;5;28misinstance\u001b[39m(casted_key, \u001b[38;5;28mslice\u001b[39m) \u001b[38;5;129;01mor\u001b[39;00m (\n\u001b[0;32m   3808\u001b[0m         \u001b[38;5;28misinstance\u001b[39m(casted_key, abc\u001b[38;5;241m.\u001b[39mIterable)\n\u001b[0;32m   3809\u001b[0m         \u001b[38;5;129;01mand\u001b[39;00m \u001b[38;5;28many\u001b[39m(\u001b[38;5;28misinstance\u001b[39m(x, \u001b[38;5;28mslice\u001b[39m) \u001b[38;5;28;01mfor\u001b[39;00m x \u001b[38;5;129;01min\u001b[39;00m casted_key)\n\u001b[0;32m   3810\u001b[0m     ):\n\u001b[0;32m   3811\u001b[0m         \u001b[38;5;28;01mraise\u001b[39;00m InvalidIndexError(key)\n\u001b[1;32m-> 3812\u001b[0m     \u001b[38;5;28;01mraise\u001b[39;00m \u001b[38;5;167;01mKeyError\u001b[39;00m(key) \u001b[38;5;28;01mfrom\u001b[39;00m \u001b[38;5;21;01merr\u001b[39;00m\n\u001b[0;32m   3813\u001b[0m \u001b[38;5;28;01mexcept\u001b[39;00m \u001b[38;5;167;01mTypeError\u001b[39;00m:\n\u001b[0;32m   3814\u001b[0m     \u001b[38;5;66;03m# If we have a listlike key, _check_indexing_error will raise\u001b[39;00m\n\u001b[0;32m   3815\u001b[0m     \u001b[38;5;66;03m#  InvalidIndexError. Otherwise we fall through and re-raise\u001b[39;00m\n\u001b[0;32m   3816\u001b[0m     \u001b[38;5;66;03m#  the TypeError.\u001b[39;00m\n\u001b[0;32m   3817\u001b[0m     \u001b[38;5;28mself\u001b[39m\u001b[38;5;241m.\u001b[39m_check_indexing_error(key)\n",
      "\u001b[1;31mKeyError\u001b[0m: 0"
     ]
    }
   ],
   "source": [
    "amir_features_df = pd.DataFrame([amir_features])\n",
    "\n",
    "\n",
    "new_prediction = regressor.predict(features[0])\n",
    "\n",
    "print(f\"Prediction for the new features: {new_prediction[0]}\")"
   ]
  },
  {
   "cell_type": "code",
   "execution_count": 89,
   "id": "e176e5ce",
   "metadata": {},
   "outputs": [
    {
     "name": "stdout",
     "output_type": "stream",
     "text": [
      "Object type: Sound\n",
      "Object name: <no name>\n",
      "Date: Tue Apr 29 13:00:47 2025\n",
      "\n",
      "Number of channels: 2 (stereo)\n",
      "Time domain:\n",
      "   Start time: 0 seconds\n",
      "   End time: 3.2213333333333334 seconds\n",
      "   Total duration: 3.2213333333333334 seconds\n",
      "Time sampling:\n",
      "   Number of samples: 154624\n",
      "   Sampling period: 2.0833333333333333e-05 seconds\n",
      "   Sampling frequency: 48000 Hz\n",
      "   First sample centred at: 1.0416666666666666e-05 seconds\n",
      "Amplitude:\n",
      "   Minimum: -0.043762207 Pascal\n",
      "   Maximum: 0.085357666 Pascal\n",
      "   Mean: 7.84531334e-07 Pascal\n",
      "   Root-mean-square: 0.00745222958 Pascal\n",
      "Total energy: 0.000178899085 Pascal² sec (energy in air: 4.47247711e-07 Joule/m²)\n",
      "Mean power (intensity) in air: 1.38839314e-07 Watt/m² = 51.43 dB\n",
      "Standard deviation in channel 1: 0.00745225364 Pascal\n",
      "Standard deviation in channel 2: 0.00745225364 Pascal\n",
      "\n"
     ]
    },
    {
     "ename": "AttributeError",
     "evalue": "'parselmouth.Sound' object has no attribute 'to_jitter'",
     "output_type": "error",
     "traceback": [
      "\u001b[1;31m---------------------------------------------------------------------------\u001b[0m",
      "\u001b[1;31mAttributeError\u001b[0m                            Traceback (most recent call last)",
      "Cell \u001b[1;32mIn[89], line 29\u001b[0m\n\u001b[0;32m     12\u001b[0m     features \u001b[38;5;241m=\u001b[39m {\n\u001b[0;32m     13\u001b[0m         \u001b[38;5;124m\"\u001b[39m\u001b[38;5;124mJitter(\u001b[39m\u001b[38;5;124m%\u001b[39m\u001b[38;5;124m)\u001b[39m\u001b[38;5;124m\"\u001b[39m: jitter\u001b[38;5;241m.\u001b[39mlocal,\n\u001b[0;32m     14\u001b[0m         \u001b[38;5;124m\"\u001b[39m\u001b[38;5;124mJitter(Abs)\u001b[39m\u001b[38;5;124m\"\u001b[39m: jitter\u001b[38;5;241m.\u001b[39mabsolute,\n\u001b[1;32m   (...)\u001b[0m\n\u001b[0;32m     25\u001b[0m         \u001b[38;5;124m\"\u001b[39m\u001b[38;5;124mHNR\u001b[39m\u001b[38;5;124m\"\u001b[39m: hnr\u001b[38;5;241m.\u001b[39mmean,\n\u001b[0;32m     26\u001b[0m     }\n\u001b[0;32m     27\u001b[0m     \u001b[38;5;28;01mreturn\u001b[39;00m features\n\u001b[1;32m---> 29\u001b[0m features \u001b[38;5;241m=\u001b[39m \u001b[43mextract_voice_features\u001b[49m\u001b[43m(\u001b[49m\u001b[38;5;124;43m\"\u001b[39;49m\u001b[38;5;124;43mRecording.wav\u001b[39;49m\u001b[38;5;124;43m\"\u001b[39;49m\u001b[43m)\u001b[49m\n\u001b[0;32m     30\u001b[0m \u001b[38;5;28mprint\u001b[39m(features)\n",
      "Cell \u001b[1;32mIn[89], line 8\u001b[0m, in \u001b[0;36mextract_voice_features\u001b[1;34m(file_path)\u001b[0m\n\u001b[0;32m      6\u001b[0m \u001b[38;5;28mprint\u001b[39m(sound)\n\u001b[0;32m      7\u001b[0m \u001b[38;5;66;03m# Jitter measures\u001b[39;00m\n\u001b[1;32m----> 8\u001b[0m jitter \u001b[38;5;241m=\u001b[39m \u001b[43msound\u001b[49m\u001b[38;5;241;43m.\u001b[39;49m\u001b[43mto_jitter\u001b[49m()\n\u001b[0;32m      9\u001b[0m shimmer \u001b[38;5;241m=\u001b[39m sound\u001b[38;5;241m.\u001b[39mto_shimmer()\n\u001b[0;32m     10\u001b[0m hnr \u001b[38;5;241m=\u001b[39m sound\u001b[38;5;241m.\u001b[39mto_harmonicity()\n",
      "\u001b[1;31mAttributeError\u001b[0m: 'parselmouth.Sound' object has no attribute 'to_jitter'"
     ]
    }
   ],
   "source": [
    "import parselmouth\n",
    "\n",
    "def extract_voice_features(file_path):\n",
    "    sound = parselmouth.Sound(file_path)\n",
    "    \n",
    "    print(sound)\n",
    "    # Jitter measures\n",
    "    jitter = sound.to_jitter()\n",
    "    shimmer = sound.to_shimmer()\n",
    "    hnr = sound.to_harmonicity()\n",
    "    \n",
    "    features = {\n",
    "        \"Jitter(%)\": jitter.local,\n",
    "        \"Jitter(Abs)\": jitter.absolute,\n",
    "        \"Jitter:RAP\": jitter.rap,\n",
    "        \"Jitter:PPQ5\": jitter.ppq5,\n",
    "        \"Jitter:DDP\": jitter.ddp,\n",
    "        \"Shimmer(%)\": shimmer.local,\n",
    "        \"Shimmer(dB)\": shimmer.local_db,\n",
    "        \"Shimmer:APQ3\": shimmer.apq3,\n",
    "        \"Shimmer:APQ5\": shimmer.apq5,\n",
    "        \"Shimmer:APQ11\": shimmer.apq11,\n",
    "        \"Shimmer:DDA\": shimmer.dda,\n",
    "        \"NHR\": 1 / hnr.mean if hnr.mean != 0 else 0,  # Approximation\n",
    "        \"HNR\": hnr.mean,\n",
    "    }\n",
    "    return features\n",
    "\n",
    "features = extract_voice_features(\"Recording.wav\")\n",
    "print(features)"
   ]
  },
  {
   "cell_type": "code",
   "execution_count": 93,
   "id": "25d6056f",
   "metadata": {},
   "outputs": [
    {
     "ename": "ValueError",
     "evalue": "Cannot convert argument \"<parselmouth.Pitch object at 0x00000211C913C970>\" to a known Praat argument type",
     "output_type": "error",
     "traceback": [
      "\u001b[1;31m---------------------------------------------------------------------------\u001b[0m",
      "\u001b[1;31mValueError\u001b[0m                                Traceback (most recent call last)",
      "Cell \u001b[1;32mIn[93], line 52\u001b[0m\n\u001b[0;32m     49\u001b[0m     \u001b[38;5;28;01mreturn\u001b[39;00m features\n\u001b[0;32m     51\u001b[0m \u001b[38;5;66;03m# Example usage\u001b[39;00m\n\u001b[1;32m---> 52\u001b[0m features \u001b[38;5;241m=\u001b[39m \u001b[43mextract_voice_features\u001b[49m\u001b[43m(\u001b[49m\u001b[38;5;124;43m\"\u001b[39;49m\u001b[38;5;124;43mRecording.wav\u001b[39;49m\u001b[38;5;124;43m\"\u001b[39;49m\u001b[43m)\u001b[49m\n\u001b[0;32m     53\u001b[0m \u001b[38;5;28;01mfor\u001b[39;00m key, value \u001b[38;5;129;01min\u001b[39;00m features\u001b[38;5;241m.\u001b[39mitems():\n\u001b[0;32m     54\u001b[0m     \u001b[38;5;28mprint\u001b[39m(\u001b[38;5;124mf\u001b[39m\u001b[38;5;124m\"\u001b[39m\u001b[38;5;132;01m{\u001b[39;00mkey\u001b[38;5;132;01m}\u001b[39;00m\u001b[38;5;124m: \u001b[39m\u001b[38;5;132;01m{\u001b[39;00mvalue\u001b[38;5;132;01m}\u001b[39;00m\u001b[38;5;124m\"\u001b[39m)\n",
      "Cell \u001b[1;32mIn[93], line 9\u001b[0m, in \u001b[0;36mextract_voice_features\u001b[1;34m(file_path)\u001b[0m\n\u001b[0;32m      7\u001b[0m \u001b[38;5;66;03m# Extract pitch and pulses (PointProcess)\u001b[39;00m\n\u001b[0;32m      8\u001b[0m pitch \u001b[38;5;241m=\u001b[39m sound\u001b[38;5;241m.\u001b[39mto_pitch()\n\u001b[1;32m----> 9\u001b[0m pulses \u001b[38;5;241m=\u001b[39m \u001b[43mparselmouth\u001b[49m\u001b[38;5;241;43m.\u001b[39;49m\u001b[43mpraat\u001b[49m\u001b[38;5;241;43m.\u001b[39;49m\u001b[43mcall\u001b[49m\u001b[43m(\u001b[49m\u001b[43msound\u001b[49m\u001b[43m,\u001b[49m\u001b[43m \u001b[49m\u001b[38;5;124;43m\"\u001b[39;49m\u001b[38;5;124;43mTo PointProcess (periodic, cc)\u001b[39;49m\u001b[38;5;124;43m\"\u001b[39;49m\u001b[43m,\u001b[49m\u001b[43m \u001b[49m\u001b[43mpitch\u001b[49m\u001b[43m,\u001b[49m\u001b[43m \u001b[49m\u001b[38;5;241;43m75\u001b[39;49m\u001b[43m,\u001b[49m\u001b[43m \u001b[49m\u001b[38;5;241;43m600\u001b[39;49m\u001b[43m)\u001b[49m\n\u001b[0;32m     11\u001b[0m \u001b[38;5;66;03m# Extract jitter measures (now using PointProcess)\u001b[39;00m\n\u001b[0;32m     12\u001b[0m jitter \u001b[38;5;241m=\u001b[39m parselmouth\u001b[38;5;241m.\u001b[39mpraat\u001b[38;5;241m.\u001b[39mcall(pulses, \u001b[38;5;124m\"\u001b[39m\u001b[38;5;124mGet jitter (local)\u001b[39m\u001b[38;5;124m\"\u001b[39m, \u001b[38;5;241m0\u001b[39m, \u001b[38;5;241m0\u001b[39m, \u001b[38;5;241m0.0001\u001b[39m, \u001b[38;5;241m0.02\u001b[39m, \u001b[38;5;241m1.3\u001b[39m)\n",
      "\u001b[1;31mValueError\u001b[0m: Cannot convert argument \"<parselmouth.Pitch object at 0x00000211C913C970>\" to a known Praat argument type"
     ]
    }
   ],
   "source": [
    "import parselmouth\n",
    "\n",
    "def extract_voice_features(file_path):\n",
    "    # Load the sound file\n",
    "    sound = parselmouth.Sound(file_path)\n",
    "    \n",
    "    # Extract pitch and pulses (PointProcess)\n",
    "    pitch = sound.to_pitch()\n",
    "    pulses = parselmouth.praat.call(sound, \"To PointProcess (periodic, cc)\", pitch, 75, 600)\n",
    "    \n",
    "    # Extract jitter measures (now using PointProcess)\n",
    "    jitter = parselmouth.praat.call(pulses, \"Get jitter (local)\", 0, 0, 0.0001, 0.02, 1.3)\n",
    "    jitter_abs = parselmouth.praat.call(pulses, \"Get jitter (absolute)\", 0, 0, 0.0001, 0.02, 1.3)\n",
    "    jitter_rap = parselmouth.praat.call(pulses, \"Get jitter (rap)\", 0, 0, 0.0001, 0.02, 1.3)\n",
    "    jitter_ppq5 = parselmouth.praat.call(pulses, \"Get jitter (ppq5)\", 0, 0, 0.0001, 0.02, 1.3)\n",
    "    jitter_ddp = parselmouth.praat.call(pulses, \"Get jitter (ddp)\", 0, 0, 0.0001, 0.02, 1.3)\n",
    "    \n",
    "    # Extract shimmer measures (requires Sound + PointProcess)\n",
    "    shimmer = parselmouth.praat.call([sound, pulses], \"Get shimmer (local)\", 0, 0, 0.0001, 0.02, 1.3, 1.6)\n",
    "    shimmer_db = parselmouth.praat.call([sound, pulses], \"Get shimmer (local_dB)\", 0, 0, 0.0001, 0.02, 1.3, 1.6)\n",
    "    shimmer_apq3 = parselmouth.praat.call([sound, pulses], \"Get shimmer (apq3)\", 0, 0, 0.0001, 0.02, 1.3, 1.6)\n",
    "    shimmer_apq5 = parselmouth.praat.call([sound, pulses], \"Get shimmer (apq5)\", 0, 0, 0.0001, 0.02, 1.3, 1.6)\n",
    "    shimmer_apq11 = parselmouth.praat.call([sound, pulses], \"Get shimmer (apq11)\", 0, 0, 0.0001, 0.02, 1.3, 1.6)\n",
    "    shimmer_dda = parselmouth.praat.call([sound, pulses], \"Get shimmer (dda)\", 0, 0, 0.0001, 0.02, 1.3, 1.6)\n",
    "    \n",
    "    # Extract harmonicity (HNR)\n",
    "    harmonicity = sound.to_harmonicity()\n",
    "    hnr = harmonicity.values[harmonicity.values != -200].mean()  # Exclude Praat's NaN (-200)\n",
    "    nhr = 1 / hnr if hnr != 0 else 0  # Noise-to-Harmonic Ratio (approximation)\n",
    "    \n",
    "    features = {\n",
    "        \"Jitter(%)\": jitter,\n",
    "        \"Jitter(Abs)\": jitter_abs,\n",
    "        \"Jitter:RAP\": jitter_rap,\n",
    "        \"Jitter:PPQ5\": jitter_ppq5,\n",
    "        \"Jitter:DDP\": jitter_ddp,\n",
    "        \"Shimmer(%)\": shimmer,\n",
    "        \"Shimmer(dB)\": shimmer_db,\n",
    "        \"Shimmer:APQ3\": shimmer_apq3,\n",
    "        \"Shimmer:APQ5\": shimmer_apq5,\n",
    "        \"Shimmer:APQ11\": shimmer_apq11,\n",
    "        \"Shimmer:DDA\": shimmer_dda,\n",
    "        \"NHR\": nhr,\n",
    "        \"HNR\": hnr,\n",
    "        \"RPDE\": \"Requires custom computation (e.g., pyAudioAnalysis)\",\n",
    "        \"DFA\": \"Requires custom computation (e.g., pyAudioAnalysis)\",\n",
    "        \"PPE\": \"Requires custom computation (e.g., pyAudioAnalysis)\",\n",
    "    }\n",
    "    return features\n",
    "\n",
    "# Example usage\n",
    "features = extract_voice_features(\"Recording.wav\")\n",
    "for key, value in features.items():\n",
    "    print(f\"{key}: {value}\")"
   ]
  }
 ],
 "metadata": {
  "kernelspec": {
   "display_name": "Python 3",
   "language": "python",
   "name": "python3"
  },
  "language_info": {
   "codemirror_mode": {
    "name": "ipython",
    "version": 3
   },
   "file_extension": ".py",
   "mimetype": "text/x-python",
   "name": "python",
   "nbconvert_exporter": "python",
   "pygments_lexer": "ipython3",
   "version": "3.12.3"
  }
 },
 "nbformat": 4,
 "nbformat_minor": 5
}
